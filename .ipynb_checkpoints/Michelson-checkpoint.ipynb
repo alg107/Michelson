{
 "cells": [
  {
   "cell_type": "markdown",
   "metadata": {},
   "source": [
    "# Experiment 7 - Michelson Interferometer"
   ]
  },
  {
   "cell_type": "markdown",
   "metadata": {},
   "source": [
    "### Date: 29/04/19 - 30/03/19\n",
    "### Group Members: Aayushi Verma, Diana Kommedal, Alex Goodenbour"
   ]
  },
  {
   "cell_type": "markdown",
   "metadata": {},
   "source": [
    "## Introduction"
   ]
  },
  {
   "cell_type": "markdown",
   "metadata": {},
   "source": []
  },
  {
   "cell_type": "markdown",
   "metadata": {},
   "source": [
    "## Method"
   ]
  },
  {
   "cell_type": "markdown",
   "metadata": {},
   "source": []
  },
  {
   "cell_type": "markdown",
   "metadata": {},
   "source": [
    "## Analysis"
   ]
  },
  {
   "cell_type": "code",
   "execution_count": 69,
   "metadata": {},
   "outputs": [],
   "source": [
    "# Setup and helper function definition\n",
    "%matplotlib inline\n",
    "import numpy as np\n",
    "import matplotlib.pyplot as plt\n",
    "import pandas as pds\n",
    "\n",
    "#def round_to_1(x):\n",
    "#    return round(x, -int(np.floor(np.log10(abs(x)))))\n",
    "\n",
    "\n",
    "data = pds.read_csv(\"michelson.csv\")\n",
    "\n",
    "## UNCERTAINTIES NEED TO BE DONE"
   ]
  },
  {
   "cell_type": "markdown",
   "metadata": {},
   "source": [
    "### Wavelength of Laser Light"
   ]
  },
  {
   "cell_type": "code",
   "execution_count": 68,
   "metadata": {},
   "outputs": [
    {
     "name": "stdout",
     "output_type": "stream",
     "text": [
      "6.3e-07\n"
     ]
    }
   ],
   "source": [
    "# Takes d in microns\n",
    "lambda_ = lambda d,m: (2*d*10**(-6))/m\n",
    "calculated_lambda = lambda_(data.d_m.mean(),data.del_m1.mean())\n",
    "print(calculated_lambda)"
   ]
  },
  {
   "cell_type": "markdown",
   "metadata": {},
   "source": [
    "### Measuring the Index of Refraction of Air"
   ]
  },
  {
   "cell_type": "code",
   "execution_count": 61,
   "metadata": {},
   "outputs": [
    {
     "name": "stdout",
     "output_type": "stream",
     "text": [
      "Slope:\n",
      " 3.4878740157480313e-06\n",
      "n at 1 atm:  1.0002650784251967\n"
     ]
    },
    {
     "data": {
      "image/png": "[encoded data removed]",
      "text/plain": [
       "<Figure size 432x288 with 1 Axes>"
      ]
     },
     "metadata": {
      "needs_background": "light"
     },
     "output_type": "display_data"
    }
   ],
   "source": [
    "# Importing and processing the data\n",
    "\n",
    "\n",
    "\n",
    "p_absolute = 76.0-in_to_cm(data.p_gauge)\n",
    "\n",
    "lambda_0 = 632.8e-9 #estimate\n",
    "d = 3.0e-2\n",
    "\n",
    "in_to_cm = lambda x: 2.54*x\n",
    "\n",
    "#Function returning the slope given the values of m and the initial value of the wavelength\n",
    "find_slope = lambda m, lambda_i, p: ((m.mean()*lambda_i)/(2*d))/(p) #50.8 is value of pressure in Hg cm converted from Hg inches\n",
    "\n",
    "slope = find_slope(data.del_m, lambda_0, in_to_cm(20))\n",
    "print(\"Slope:\\n\", slope)\n",
    "\n",
    "lin_relationship = lambda x: slope*x + 1\n",
    "\n",
    "# Plotting line given slope\n",
    "x = np.linspace(0, 2, 1000)\n",
    "plt.plot(x, lin_relationship(x))\n",
    "\n",
    "# Finding ref. index at 1atm (or 76 Hg cm)\n",
    "n_at_1atm = slope*76+1\n",
    "print(\"n at 1 atm: \", n_at_1atm)\n",
    "\n",
    "# Plots a scatter plot with linear regression\n",
    "#def plot_scatter(x,y,sigma_y, sigma_x, title, xlabel, ylabel):\n",
    "#    plt.errorbar(x,y,sigma_y, sigma_x, fmt='.')\n",
    "#    \n",
    "#    #plt.title(title)\n",
    "#    plt.xlabel(xlabel)\n",
    "#    plt.ylabel(ylabel)\n",
    "\n",
    "#plot_scatter(p_absolute, n_i, 0, 0, \n",
    "#             \"Gas Pressure vs. Refractive Index\",\n",
    "#             \"Gas Pressure (cm Hg)\",\n",
    "#             \"Index of Refraction ($n$)\"\n",
    "#            )"
   ]
  },
  {
   "cell_type": "markdown",
   "metadata": {},
   "source": [
    "## Discussion"
   ]
  },
  {
   "cell_type": "markdown",
   "metadata": {},
   "source": []
  },
  {
   "cell_type": "markdown",
   "metadata": {},
   "source": [
    "## Conclusion"
   ]
  },
  {
   "cell_type": "markdown",
   "metadata": {},
   "source": []
  },
  {
   "cell_type": "code",
   "execution_count": null,
   "metadata": {},
   "outputs": [],
   "source": []
  }
 ],
 "metadata": {
  "kernelspec": {
   "display_name": "Python 3",
   "language": "python",
   "name": "python3"
  },
  "language_info": {
   "codemirror_mode": {
    "name": "ipython",
    "version": 3
   },
   "file_extension": ".py",
   "mimetype": "text/x-python",
   "name": "python",
   "nbconvert_exporter": "python",
   "pygments_lexer": "ipython3",
   "version": "3.7.1"
  }
 },
 "nbformat": 4,
 "nbformat_minor": 2
}
